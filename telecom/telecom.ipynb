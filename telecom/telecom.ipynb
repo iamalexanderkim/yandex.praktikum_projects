{
 "cells": [
  {
   "cell_type": "markdown",
   "metadata": {},
   "source": [
    "# Описание проекта\n",
    "Клиентам телеком компании предлагают два тарифных плана: «Смарт» и «Ультра». Необходимо понять, какой тариф приносит больше денег.\n",
    "\n",
    "Для этого необходимо провести предварительный анализ тарифов на небольшой выборке клиентов. В распоряжении данные 500 пользователей: кто они, откуда, каким тарифом пользуются, сколько звонков и сообщений каждый отправил за 2018 год. Нужно проанализировать поведение клиентов и сделать вывод — какой тариф лучше.\n",
    "\n",
    "### Описание данных\n",
    "\n",
    "#### Таблица users (информация о пользователях):\n",
    "\n",
    "user_id — уникальный идентификатор пользователя\n",
    "\n",
    "first_name — имя пользователя\n",
    "\n",
    "last_name — фамилия пользователя\n",
    "\n",
    "age — возраст пользователя (годы)\n",
    "\n",
    "reg_date — дата подключения тарифа (день, месяц, год)\n",
    "\n",
    "churn_date — дата прекращения пользования тарифом (если значение пропущено, то тариф ещё действовал на момент выгрузки данных)\n",
    "\n",
    "city — город проживания пользователя\n",
    "\n",
    "tariff — название тарифного плана\n",
    "\n",
    "\n",
    "#### Таблица calls (информация о звонках):\n",
    "\n",
    "id — уникальный номер звонка\n",
    "\n",
    "call_date — дата звонка\n",
    "\n",
    "duration — длительность звонка в минутах\n",
    "\n",
    "user_id — идентификатор пользователя, сделавшего звонок\n",
    "\n",
    "#### Таблица messages (информация о сообщениях):\n",
    "\n",
    "id — уникальный номер сообщения\n",
    "\n",
    "message_date — дата сообщения\n",
    "\n",
    "user_id — идентификатор пользователя, отправившего сообщение\n",
    "\n",
    "#### Таблица internet (информация об интернет-сессиях):\n",
    "\n",
    "id — уникальный номер сессии\n",
    "\n",
    "mb_used — объём потраченного за сессию интернет-трафика (в мегабайтах)\n",
    "\n",
    "session_date — дата интернет-сессии\n",
    "\n",
    "user_id — идентификатор пользователя\n",
    "\n",
    "#### Таблица tariffs (информация о тарифах):\n",
    "\n",
    "tariff_name — название тарифа\n",
    "\n",
    "rub_monthly_fee — ежемесячная абонентская плата в рублях\n",
    "\n",
    "minutes_included — количество минут разговора в месяц, включённых в абонентскую плату\n",
    "\n",
    "messages_included — количество сообщений в месяц, включённых в абонентскую плату\n",
    "\n",
    "mb_per_month_included — объём интернет-трафика, включённого в абонентскую плату (в мегабайтах)\n",
    "\n",
    "rub_per_minute — стоимость минуты разговора сверх тарифного пакета (например, если в тарифе 100 минут разговора в месяц, то со 101 минуты будет взиматься плата)\n",
    "\n",
    "rub_per_message — стоимость отправки сообщения сверх тарифного пакета\n",
    "\n",
    "rub_per_gb — стоимость дополнительного гигабайта интернет-трафика сверх тарифного пакета (1 гигабайт = 1024 мегабайта)\n"
   ]
  },
  {
   "cell_type": "markdown",
   "metadata": {},
   "source": [
    "### Шаг 1. Откройте файл с данными и изучите общую информацию\n"
   ]
  },
  {
   "cell_type": "code",
   "execution_count": 1,
   "metadata": {},
   "outputs": [],
   "source": [
    "import pandas as pd\n",
    "import numpy as np\n",
    "from scipy import stats as st\n",
    "import matplotlib.pyplot as plt \n",
    "\n",
    "\n",
    "df_calls = pd.read_csv('/datasets/calls.csv')\n",
    "df_internet = pd.read_csv('/datasets/internet.csv')\n",
    "df_messages = pd.read_csv('/datasets/messages.csv')\n",
    "df_tariffs = pd.read_csv('/datasets/tariffs.csv')\n",
    "df_users = pd.read_csv('/datasets/users.csv')"
   ]
  },
  {
   "cell_type": "code",
   "execution_count": 2,
   "metadata": {
    "scrolled": false
   },
   "outputs": [
    {
     "name": "stdout",
     "output_type": "stream",
     "text": [
      "   user_id  age churn_date              city first_name  last_name  \\\n",
      "0     1000   52        NaN         Краснодар     Рафаил  Верещагин   \n",
      "1     1001   41        NaN            Москва       Иван       Ежов   \n",
      "2     1002   59        NaN       Стерлитамак    Евгений  Абрамович   \n",
      "3     1003   23        NaN            Москва      Белла   Белякова   \n",
      "4     1004   68        NaN       Новокузнецк    Татьяна   Авдеенко   \n",
      "5     1005   67        NaN  Набережные Челны   Афанасий     Горлов   \n",
      "6     1006   21        NaN         Ульяновск     Леонид   Ермолаев   \n",
      "7     1007   65        NaN            Москва        Юна   Березина   \n",
      "8     1008   63        NaN         Челябинск     Рустэм  Пономарёв   \n",
      "9     1009   24        NaN             Пермь   Василиса    Блинова   \n",
      "\n",
      "     reg_date tariff  \n",
      "0  2018-05-25  ultra  \n",
      "1  2018-11-01  smart  \n",
      "2  2018-06-17  smart  \n",
      "3  2018-08-17  ultra  \n",
      "4  2018-05-14  ultra  \n",
      "5  2018-01-25  smart  \n",
      "6  2018-02-26  smart  \n",
      "7  2018-04-19  smart  \n",
      "8  2018-12-19  smart  \n",
      "9  2018-03-22  smart  \n",
      "--------------------------\n",
      "<class 'pandas.core.frame.DataFrame'>\n",
      "RangeIndex: 500 entries, 0 to 499\n",
      "Data columns (total 8 columns):\n",
      "user_id       500 non-null int64\n",
      "age           500 non-null int64\n",
      "churn_date    38 non-null object\n",
      "city          500 non-null object\n",
      "first_name    500 non-null object\n",
      "last_name     500 non-null object\n",
      "reg_date      500 non-null object\n",
      "tariff        500 non-null object\n",
      "dtypes: int64(2), object(6)\n",
      "memory usage: 31.4+ KB\n",
      "       id   call_date  duration  user_id\n",
      "0  1000_0  2018-07-25      0.00     1000\n",
      "1  1000_1  2018-08-17      0.00     1000\n",
      "2  1000_2  2018-06-11      2.85     1000\n",
      "3  1000_3  2018-09-21     13.80     1000\n",
      "4  1000_4  2018-12-15      5.18     1000\n",
      "5  1000_5  2018-11-02      0.00     1000\n",
      "6  1000_6  2018-10-18      0.00     1000\n",
      "7  1000_7  2018-08-22     18.31     1000\n",
      "8  1000_8  2018-09-15     18.44     1000\n",
      "9  1000_9  2018-08-15      0.00     1000\n",
      "--------------------------\n",
      "<class 'pandas.core.frame.DataFrame'>\n",
      "RangeIndex: 202607 entries, 0 to 202606\n",
      "Data columns (total 4 columns):\n",
      "id           202607 non-null object\n",
      "call_date    202607 non-null object\n",
      "duration     202607 non-null float64\n",
      "user_id      202607 non-null int64\n",
      "dtypes: float64(1), int64(1), object(2)\n",
      "memory usage: 6.2+ MB\n",
      "   Unnamed: 0      id  mb_used session_date  user_id\n",
      "0           0  1000_0   112.95   2018-11-25     1000\n",
      "1           1  1000_1  1052.81   2018-09-07     1000\n",
      "2           2  1000_2  1197.26   2018-06-25     1000\n",
      "3           3  1000_3   550.27   2018-08-22     1000\n",
      "4           4  1000_4   302.56   2018-09-24     1000\n",
      "5           5  1000_5   399.97   2018-10-02     1000\n",
      "6           6  1000_6   540.08   2018-09-07     1000\n",
      "7           7  1000_7   415.70   2018-07-11     1000\n",
      "8           8  1000_8   505.40   2018-10-08     1000\n",
      "9           9  1000_9   345.54   2018-09-03     1000\n",
      "--------------------------\n",
      "<class 'pandas.core.frame.DataFrame'>\n",
      "RangeIndex: 149396 entries, 0 to 149395\n",
      "Data columns (total 5 columns):\n",
      "Unnamed: 0      149396 non-null int64\n",
      "id              149396 non-null object\n",
      "mb_used         149396 non-null float64\n",
      "session_date    149396 non-null object\n",
      "user_id         149396 non-null int64\n",
      "dtypes: float64(1), int64(2), object(2)\n",
      "memory usage: 5.7+ MB\n",
      "       id message_date  user_id\n",
      "0  1000_0   2018-06-27     1000\n",
      "1  1000_1   2018-10-08     1000\n",
      "2  1000_2   2018-08-04     1000\n",
      "3  1000_3   2018-06-16     1000\n",
      "4  1000_4   2018-12-05     1000\n",
      "5  1000_5   2018-06-20     1000\n",
      "6  1000_6   2018-11-19     1000\n",
      "7  1000_7   2018-10-29     1000\n",
      "8  1000_8   2018-06-25     1000\n",
      "9  1000_9   2018-12-18     1000\n",
      "--------------------------\n",
      "<class 'pandas.core.frame.DataFrame'>\n",
      "RangeIndex: 123036 entries, 0 to 123035\n",
      "Data columns (total 3 columns):\n",
      "id              123036 non-null object\n",
      "message_date    123036 non-null object\n",
      "user_id         123036 non-null int64\n",
      "dtypes: int64(1), object(2)\n",
      "memory usage: 2.8+ MB\n",
      "--------------------------\n",
      "   messages_included  mb_per_month_included  minutes_included  \\\n",
      "0                 50                  15360               500   \n",
      "1               1000                  30720              3000   \n",
      "\n",
      "   rub_monthly_fee  rub_per_gb  rub_per_message  rub_per_minute tariff_name  \n",
      "0              550         200                3               3       smart  \n",
      "1             1950         150                1               1       ultra  \n"
     ]
    }
   ],
   "source": [
    "display(df_users.head(10))\n",
    "print('--------------------------')\n",
    "df_users.info()\n",
    "\n",
    "display(df_calls.head(10))\n",
    "print('--------------------------')\n",
    "df_calls.info()\n",
    "\n",
    "display(df_internet.head(10))\n",
    "print('--------------------------')\n",
    "df_internet.info()\n",
    "\n",
    "display(df_messages.head(10))\n",
    "print('--------------------------')\n",
    "df_messages.info()\n",
    "\n",
    "display('--------------------------')\n",
    "print(df_tariffs)"
   ]
  },
  {
   "cell_type": "markdown",
   "metadata": {},
   "source": [
    "####  Для выполнения проекта необходимо ознакомиться с 5 датасетами. Замечено, что столбцы, содержащие даты, имеют неверный формат. Из приятного - отсутствуют пропущенные значения в необходимых для анализа столбцах.  "
   ]
  },
  {
   "cell_type": "markdown",
   "metadata": {},
   "source": [
    "### Шаг 2. Подготовьте данные\n"
   ]
  },
  {
   "cell_type": "markdown",
   "metadata": {},
   "source": [
    "#### Предобработка данных"
   ]
  },
  {
   "cell_type": "code",
   "execution_count": 3,
   "metadata": {},
   "outputs": [],
   "source": [
    "df_users['churn_date'] = pd.to_datetime(df_users['churn_date'], format = '%Y-%m-%d')\n",
    "df_users['reg_date'] = pd.to_datetime(df_users['reg_date'], format = '%Y-%m-%d')\n",
    "\n",
    "df_calls['call_date'] = pd.to_datetime(df_calls['call_date'], format = '%Y-%m-%d')\n",
    "df_messages['message_date'] = pd.to_datetime(df_messages['message_date'], format = '%Y-%m-%d')\n",
    "df_internet['session_date'] = pd.to_datetime(df_internet['session_date'], format = '%Y-%m-%d')"
   ]
  },
  {
   "cell_type": "code",
   "execution_count": 4,
   "metadata": {},
   "outputs": [],
   "source": [
    "df_calls['duration'] = df_calls['duration'].apply(np.ceil)\n",
    "df_internet['mb_used'] = df_internet['mb_used'].apply(np.ceil)\n",
    "df_calls['duration'] = df_calls['duration'].replace(0, 1)"
   ]
  },
  {
   "cell_type": "markdown",
   "metadata": {},
   "source": [
    "#### Формат столбцов с датами был исправлен. \n",
    "#### Значения в столбцах 'duration' и 'mb_used' были округлены до верхнего значения. Сделано это было по причине того, что «Мегалайн» всегда округляет вверх значения минут и мегабайтов. Если пользователь проговорил всего 1 секунду, в тарифе засчитывается целая минута.\n",
    "\n",
    "#### Также в столбце duration все нулевые значения были изменены на единичку. Это было сделано из предположения, что раз в датафрейме df_calls имеется запись о звонке длительностью 0 минут, то сам звонок всё-таки имел место быть. Сама компания при этом потратила ресурсы на его осуществление."
   ]
  },
  {
   "cell_type": "markdown",
   "metadata": {},
   "source": [
    "#### Формирование необходимых таблиц:"
   ]
  },
  {
   "cell_type": "markdown",
   "metadata": {},
   "source": [
    "#### 1) Количество сделанных звонков и израсходованных минут разговора по месяцам для каждого пользователя:\n"
   ]
  },
  {
   "cell_type": "code",
   "execution_count": 5,
   "metadata": {},
   "outputs": [
    {
     "name": "stdout",
     "output_type": "stream",
     "text": [
      "                 calls_amount  duration\n",
      "user_id month                          \n",
      "1000    2018-05            22     164.0\n",
      "        2018-06            43     187.0\n",
      "        2018-07            47     346.0\n",
      "        2018-08            52     418.0\n",
      "        2018-09            58     478.0\n",
      "        2018-10            57     363.0\n",
      "        2018-11            43     344.0\n",
      "        2018-12            46     341.0\n",
      "1001    2018-11            59     444.0\n",
      "        2018-12            63     430.0\n"
     ]
    }
   ],
   "source": [
    "df_calls['month'] = pd.to_datetime(df_calls['call_date']).dt.to_period('M')\n",
    "\n",
    "calls = df_calls.groupby(['user_id', 'month']).agg({'user_id':'count','duration':'sum'})\n",
    "calls.columns = ['calls_amount', 'duration']\n",
    "\n",
    "print(calls.head(10))"
   ]
  },
  {
   "cell_type": "markdown",
   "metadata": {},
   "source": [
    "#### 2) Количество отправленных сообщений по месяцам:\n"
   ]
  },
  {
   "cell_type": "code",
   "execution_count": 6,
   "metadata": {},
   "outputs": [
    {
     "name": "stdout",
     "output_type": "stream",
     "text": [
      "                 total_messages\n",
      "user_id month                  \n",
      "1000    2018-05              22\n",
      "        2018-06              60\n",
      "        2018-07              75\n",
      "        2018-08              81\n",
      "        2018-09              57\n",
      "        2018-10              73\n",
      "        2018-11              58\n",
      "        2018-12              70\n",
      "1002    2018-06               4\n",
      "        2018-07              11\n"
     ]
    }
   ],
   "source": [
    "df_messages['month'] = pd.to_datetime(df_messages['message_date']).dt.to_period('M')\n",
    "\n",
    "messages = df_messages.groupby(['user_id', 'month']).agg({'user_id':'count'})\n",
    "messages.columns = ['total_messages']\n",
    "\n",
    "print(messages.head(10))"
   ]
  },
  {
   "cell_type": "markdown",
   "metadata": {},
   "source": [
    "#### 3) Объем израсходованного интернет-трафика по месяцам:\n"
   ]
  },
  {
   "cell_type": "code",
   "execution_count": 7,
   "metadata": {},
   "outputs": [
    {
     "name": "stdout",
     "output_type": "stream",
     "text": [
      "                 mb_used\n",
      "user_id month           \n",
      "1000    2018-05   2256.0\n",
      "        2018-06  23257.0\n",
      "        2018-07  14016.0\n",
      "        2018-08  14070.0\n",
      "        2018-09  14581.0\n",
      "        2018-10  14717.0\n",
      "        2018-11  14768.0\n",
      "        2018-12   9827.0\n",
      "1001    2018-11  18452.0\n",
      "        2018-12  14053.0\n"
     ]
    }
   ],
   "source": [
    "df_internet['month'] = pd.to_datetime(df_internet['session_date']).dt.to_period('M')\n",
    "\n",
    "internet = df_internet.groupby(['user_id', 'month']).agg({'mb_used':'sum'})\n",
    "\n",
    "print(internet.head(10))"
   ]
  },
  {
   "cell_type": "markdown",
   "metadata": {},
   "source": [
    "#### 4) Помесячная выручка с каждого пользователя:"
   ]
  },
  {
   "cell_type": "code",
   "execution_count": 8,
   "metadata": {},
   "outputs": [
    {
     "name": "stdout",
     "output_type": "stream",
     "text": [
      "    user_id    month  calls_amount  duration  mb_used  total_messages  age  \\\n",
      "0      1000  2018-05          22.0     164.0   2256.0            22.0   52   \n",
      "1      1000  2018-06          43.0     187.0  23257.0            60.0   52   \n",
      "2      1000  2018-07          47.0     346.0  14016.0            75.0   52   \n",
      "3      1000  2018-08          52.0     418.0  14070.0            81.0   52   \n",
      "4      1000  2018-09          58.0     478.0  14581.0            57.0   52   \n",
      "5      1000  2018-10          57.0     363.0  14717.0            73.0   52   \n",
      "6      1000  2018-11          43.0     344.0  14768.0            58.0   52   \n",
      "7      1000  2018-12          46.0     341.0   9827.0            70.0   52   \n",
      "8      1001  2018-11          59.0     444.0  18452.0             NaN   41   \n",
      "9      1001  2018-12          63.0     430.0  14053.0             NaN   41   \n",
      "10     1002  2018-06          15.0     118.0  10871.0             4.0   59   \n",
      "11     1002  2018-07          26.0     219.0  17601.0            11.0   59   \n",
      "12     1002  2018-08          42.0     294.0  20347.0            13.0   59   \n",
      "13     1002  2018-09          36.0     217.0  16712.0             4.0   59   \n",
      "14     1002  2018-10          33.0     221.0  13905.0            10.0   59   \n",
      "\n",
      "   churn_date         city first_name  last_name   reg_date tariff  \n",
      "0         NaT    Краснодар     Рафаил  Верещагин 2018-05-25  ultra  \n",
      "1         NaT    Краснодар     Рафаил  Верещагин 2018-05-25  ultra  \n",
      "2         NaT    Краснодар     Рафаил  Верещагин 2018-05-25  ultra  \n",
      "3         NaT    Краснодар     Рафаил  Верещагин 2018-05-25  ultra  \n",
      "4         NaT    Краснодар     Рафаил  Верещагин 2018-05-25  ultra  \n",
      "5         NaT    Краснодар     Рафаил  Верещагин 2018-05-25  ultra  \n",
      "6         NaT    Краснодар     Рафаил  Верещагин 2018-05-25  ultra  \n",
      "7         NaT    Краснодар     Рафаил  Верещагин 2018-05-25  ultra  \n",
      "8         NaT       Москва       Иван       Ежов 2018-11-01  smart  \n",
      "9         NaT       Москва       Иван       Ежов 2018-11-01  smart  \n",
      "10        NaT  Стерлитамак    Евгений  Абрамович 2018-06-17  smart  \n",
      "11        NaT  Стерлитамак    Евгений  Абрамович 2018-06-17  smart  \n",
      "12        NaT  Стерлитамак    Евгений  Абрамович 2018-06-17  smart  \n",
      "13        NaT  Стерлитамак    Евгений  Абрамович 2018-06-17  smart  \n",
      "14        NaT  Стерлитамак    Евгений  Абрамович 2018-06-17  smart  \n"
     ]
    }
   ],
   "source": [
    "df = calls.merge(internet, on=['user_id', 'month'], how='outer')\n",
    "df = df.merge(messages, on=['user_id', 'month'], how='outer').reset_index()\n",
    "df = df.merge(df_users, on='user_id')\n",
    "print(df.head(15))"
   ]
  },
  {
   "cell_type": "code",
   "execution_count": 9,
   "metadata": {},
   "outputs": [
    {
     "data": {
      "text/plain": [
       "user_id           0.000000\n",
       "month             0.000000\n",
       "calls_amount      0.012446\n",
       "duration          0.012446\n",
       "mb_used           0.003423\n",
       "total_messages    0.154636\n",
       "age               0.000000\n",
       "churn_date        0.941817\n",
       "city              0.000000\n",
       "first_name        0.000000\n",
       "last_name         0.000000\n",
       "reg_date          0.000000\n",
       "tariff            0.000000\n",
       "dtype: float64"
      ]
     },
     "execution_count": 9,
     "metadata": {},
     "output_type": "execute_result"
    }
   ],
   "source": [
    "df.isna().mean()"
   ]
  },
  {
   "cell_type": "code",
   "execution_count": 10,
   "metadata": {},
   "outputs": [],
   "source": [
    "df = df.fillna(0)"
   ]
  },
  {
   "cell_type": "code",
   "execution_count": 11,
   "metadata": {},
   "outputs": [
    {
     "data": {
      "text/plain": [
       "user_id           0.0\n",
       "month             0.0\n",
       "calls_amount      0.0\n",
       "duration          0.0\n",
       "mb_used           0.0\n",
       "total_messages    0.0\n",
       "age               0.0\n",
       "churn_date        0.0\n",
       "city              0.0\n",
       "first_name        0.0\n",
       "last_name         0.0\n",
       "reg_date          0.0\n",
       "tariff            0.0\n",
       "dtype: float64"
      ]
     },
     "execution_count": 11,
     "metadata": {},
     "output_type": "execute_result"
    }
   ],
   "source": [
    "df.isna().mean()"
   ]
  },
  {
   "cell_type": "code",
   "execution_count": 12,
   "metadata": {},
   "outputs": [],
   "source": [
    "df['gb_used'] = (df['mb_used'] / 1024).apply(np.ceil)"
   ]
  },
  {
   "cell_type": "code",
   "execution_count": 13,
   "metadata": {},
   "outputs": [],
   "source": [
    "def function(row):\n",
    "    duration = row['duration']\n",
    "    messages = row['total_messages']\n",
    "    gb_used = row['gb_used']\n",
    "    tariff = row['tariff']\n",
    "    \n",
    "    if tariff == 'ultra':\n",
    "        \n",
    "        if duration > df_tariffs['minutes_included'].loc[1]:\n",
    "            duration_diff = duration -  df_tariffs['minutes_included'].loc[1]\n",
    "        else:\n",
    "            duration_diff = 0\n",
    "        \n",
    "        if gb_used > df_tariffs['mb_per_month_included'].loc[1] / 1024:\n",
    "            gb_used_diff = gb_used - df_tariffs['mb_per_month_included'].loc[1] / 1024\n",
    "        else:\n",
    "            gb_used_diff = 0 \n",
    "        \n",
    "        if messages > df_tariffs['messages_included'].loc[1]:\n",
    "            messages_diff = messages - df_tariffs['messages_included'].loc[1]\n",
    "        else:\n",
    "            messages_diff = 0\n",
    "        \n",
    "        revenue_ultra = (\n",
    "                (duration_diff * df_tariffs['rub_per_minute'].loc[1]) \n",
    "                + (gb_used_diff * df_tariffs['rub_per_gb'].loc[1]) \n",
    "                + (messages_diff * df_tariffs['rub_per_message'].loc[1]) +\n",
    "                 df_tariffs['rub_monthly_fee'].loc[1]\n",
    "                )\n",
    "        return revenue_ultra\n",
    "            \n",
    "    else:\n",
    "        if duration > df_tariffs['minutes_included'].loc[0]:\n",
    "            duration_diff = duration -  df_tariffs['minutes_included'].loc[0]\n",
    "        else:\n",
    "            duration_diff = 0\n",
    "        \n",
    "        if gb_used > df_tariffs['mb_per_month_included'].loc[0] / 1024:\n",
    "            gb_used_diff = gb_used - df_tariffs['mb_per_month_included'].loc[0] / 1024\n",
    "        else:\n",
    "            gb_used_diff = 0 \n",
    "        \n",
    "        if messages > df_tariffs['messages_included'].loc[0]:\n",
    "            messages_diff = messages - df_tariffs['messages_included'].loc[0]\n",
    "        else:\n",
    "            messages_diff = 0\n",
    "        \n",
    "        revenue_smart = (\n",
    "            (duration_diff * df_tariffs['rub_per_minute'].loc[0]) \n",
    "            + (gb_used_diff * df_tariffs['rub_per_gb'].loc[0]) \n",
    "            + (messages_diff * df_tariffs['rub_per_message'].loc[0]) +\n",
    "             df_tariffs['rub_monthly_fee'].loc[0]\n",
    "            )\n",
    "        return revenue_smart"
   ]
  },
  {
   "cell_type": "code",
   "execution_count": 14,
   "metadata": {},
   "outputs": [],
   "source": [
    "df['revenue'] = df.apply(function, axis = 1)"
   ]
  },
  {
   "cell_type": "code",
   "execution_count": 15,
   "metadata": {},
   "outputs": [
    {
     "data": {
      "text/html": [
       "<div>\n",
       "<style scoped>\n",
       "    .dataframe tbody tr th:only-of-type {\n",
       "        vertical-align: middle;\n",
       "    }\n",
       "\n",
       "    .dataframe tbody tr th {\n",
       "        vertical-align: top;\n",
       "    }\n",
       "\n",
       "    .dataframe thead th {\n",
       "        text-align: right;\n",
       "    }\n",
       "</style>\n",
       "<table border=\"1\" class=\"dataframe\">\n",
       "  <thead>\n",
       "    <tr style=\"text-align: right;\">\n",
       "      <th></th>\n",
       "      <th>user_id</th>\n",
       "      <th>month</th>\n",
       "      <th>calls_amount</th>\n",
       "      <th>duration</th>\n",
       "      <th>mb_used</th>\n",
       "      <th>total_messages</th>\n",
       "      <th>age</th>\n",
       "      <th>churn_date</th>\n",
       "      <th>city</th>\n",
       "      <th>first_name</th>\n",
       "      <th>last_name</th>\n",
       "      <th>reg_date</th>\n",
       "      <th>tariff</th>\n",
       "      <th>gb_used</th>\n",
       "      <th>revenue</th>\n",
       "    </tr>\n",
       "  </thead>\n",
       "  <tbody>\n",
       "    <tr>\n",
       "      <td>8</td>\n",
       "      <td>1001</td>\n",
       "      <td>2018-11</td>\n",
       "      <td>59.0</td>\n",
       "      <td>444.0</td>\n",
       "      <td>18452.0</td>\n",
       "      <td>0.0</td>\n",
       "      <td>41</td>\n",
       "      <td>0</td>\n",
       "      <td>Москва</td>\n",
       "      <td>Иван</td>\n",
       "      <td>Ежов</td>\n",
       "      <td>2018-11-01</td>\n",
       "      <td>smart</td>\n",
       "      <td>19.0</td>\n",
       "      <td>1350.0</td>\n",
       "    </tr>\n",
       "    <tr>\n",
       "      <td>829</td>\n",
       "      <td>1134</td>\n",
       "      <td>2018-02</td>\n",
       "      <td>59.0</td>\n",
       "      <td>473.0</td>\n",
       "      <td>13071.0</td>\n",
       "      <td>47.0</td>\n",
       "      <td>65</td>\n",
       "      <td>0</td>\n",
       "      <td>Красноярск</td>\n",
       "      <td>Марьяна</td>\n",
       "      <td>Авросимова</td>\n",
       "      <td>2018-01-16</td>\n",
       "      <td>smart</td>\n",
       "      <td>13.0</td>\n",
       "      <td>550.0</td>\n",
       "    </tr>\n",
       "    <tr>\n",
       "      <td>2038</td>\n",
       "      <td>1325</td>\n",
       "      <td>2018-11</td>\n",
       "      <td>84.0</td>\n",
       "      <td>560.0</td>\n",
       "      <td>27488.0</td>\n",
       "      <td>13.0</td>\n",
       "      <td>63</td>\n",
       "      <td>0</td>\n",
       "      <td>Новосибирск</td>\n",
       "      <td>Артём</td>\n",
       "      <td>Федосеев</td>\n",
       "      <td>2018-06-12</td>\n",
       "      <td>ultra</td>\n",
       "      <td>27.0</td>\n",
       "      <td>1950.0</td>\n",
       "    </tr>\n",
       "    <tr>\n",
       "      <td>3163</td>\n",
       "      <td>1496</td>\n",
       "      <td>2018-11</td>\n",
       "      <td>80.0</td>\n",
       "      <td>676.0</td>\n",
       "      <td>25092.0</td>\n",
       "      <td>46.0</td>\n",
       "      <td>36</td>\n",
       "      <td>0</td>\n",
       "      <td>Вологда</td>\n",
       "      <td>Трифон</td>\n",
       "      <td>Блохин</td>\n",
       "      <td>2018-01-27</td>\n",
       "      <td>smart</td>\n",
       "      <td>25.0</td>\n",
       "      <td>3078.0</td>\n",
       "    </tr>\n",
       "    <tr>\n",
       "      <td>1781</td>\n",
       "      <td>1285</td>\n",
       "      <td>2018-02</td>\n",
       "      <td>10.0</td>\n",
       "      <td>81.0</td>\n",
       "      <td>645.0</td>\n",
       "      <td>31.0</td>\n",
       "      <td>44</td>\n",
       "      <td>0</td>\n",
       "      <td>Краснодар</td>\n",
       "      <td>Ефим</td>\n",
       "      <td>Амельченко</td>\n",
       "      <td>2018-02-20</td>\n",
       "      <td>smart</td>\n",
       "      <td>1.0</td>\n",
       "      <td>550.0</td>\n",
       "    </tr>\n",
       "    <tr>\n",
       "      <td>2992</td>\n",
       "      <td>1470</td>\n",
       "      <td>2018-11</td>\n",
       "      <td>64.0</td>\n",
       "      <td>521.0</td>\n",
       "      <td>20080.0</td>\n",
       "      <td>21.0</td>\n",
       "      <td>23</td>\n",
       "      <td>0</td>\n",
       "      <td>Новокузнецк</td>\n",
       "      <td>Эллада</td>\n",
       "      <td>Лосева</td>\n",
       "      <td>2018-10-19</td>\n",
       "      <td>smart</td>\n",
       "      <td>20.0</td>\n",
       "      <td>1613.0</td>\n",
       "    </tr>\n",
       "    <tr>\n",
       "      <td>2450</td>\n",
       "      <td>1388</td>\n",
       "      <td>2018-11</td>\n",
       "      <td>74.0</td>\n",
       "      <td>523.0</td>\n",
       "      <td>24794.0</td>\n",
       "      <td>0.0</td>\n",
       "      <td>24</td>\n",
       "      <td>0</td>\n",
       "      <td>Вологда</td>\n",
       "      <td>Рустам</td>\n",
       "      <td>Левин</td>\n",
       "      <td>2018-08-27</td>\n",
       "      <td>smart</td>\n",
       "      <td>25.0</td>\n",
       "      <td>2619.0</td>\n",
       "    </tr>\n",
       "    <tr>\n",
       "      <td>470</td>\n",
       "      <td>1073</td>\n",
       "      <td>2018-12</td>\n",
       "      <td>71.0</td>\n",
       "      <td>542.0</td>\n",
       "      <td>15795.0</td>\n",
       "      <td>27.0</td>\n",
       "      <td>63</td>\n",
       "      <td>0</td>\n",
       "      <td>Владикавказ</td>\n",
       "      <td>Гордей</td>\n",
       "      <td>Павловский</td>\n",
       "      <td>2018-10-04</td>\n",
       "      <td>smart</td>\n",
       "      <td>16.0</td>\n",
       "      <td>876.0</td>\n",
       "    </tr>\n",
       "    <tr>\n",
       "      <td>2620</td>\n",
       "      <td>1413</td>\n",
       "      <td>2018-08</td>\n",
       "      <td>10.0</td>\n",
       "      <td>66.0</td>\n",
       "      <td>8771.0</td>\n",
       "      <td>3.0</td>\n",
       "      <td>37</td>\n",
       "      <td>0</td>\n",
       "      <td>Новосибирск</td>\n",
       "      <td>Леон</td>\n",
       "      <td>Фролов</td>\n",
       "      <td>2018-08-19</td>\n",
       "      <td>smart</td>\n",
       "      <td>9.0</td>\n",
       "      <td>550.0</td>\n",
       "    </tr>\n",
       "    <tr>\n",
       "      <td>1382</td>\n",
       "      <td>1219</td>\n",
       "      <td>2018-06</td>\n",
       "      <td>63.0</td>\n",
       "      <td>465.0</td>\n",
       "      <td>17732.0</td>\n",
       "      <td>8.0</td>\n",
       "      <td>75</td>\n",
       "      <td>0</td>\n",
       "      <td>Киров</td>\n",
       "      <td>Кузьма</td>\n",
       "      <td>Некрасов</td>\n",
       "      <td>2018-01-21</td>\n",
       "      <td>smart</td>\n",
       "      <td>18.0</td>\n",
       "      <td>1150.0</td>\n",
       "    </tr>\n",
       "  </tbody>\n",
       "</table>\n",
       "</div>"
      ],
      "text/plain": [
       "      user_id    month  calls_amount  duration  mb_used  total_messages  age  \\\n",
       "8        1001  2018-11          59.0     444.0  18452.0             0.0   41   \n",
       "829      1134  2018-02          59.0     473.0  13071.0            47.0   65   \n",
       "2038     1325  2018-11          84.0     560.0  27488.0            13.0   63   \n",
       "3163     1496  2018-11          80.0     676.0  25092.0            46.0   36   \n",
       "1781     1285  2018-02          10.0      81.0    645.0            31.0   44   \n",
       "2992     1470  2018-11          64.0     521.0  20080.0            21.0   23   \n",
       "2450     1388  2018-11          74.0     523.0  24794.0             0.0   24   \n",
       "470      1073  2018-12          71.0     542.0  15795.0            27.0   63   \n",
       "2620     1413  2018-08          10.0      66.0   8771.0             3.0   37   \n",
       "1382     1219  2018-06          63.0     465.0  17732.0             8.0   75   \n",
       "\n",
       "     churn_date         city first_name   last_name   reg_date tariff  \\\n",
       "8             0       Москва       Иван        Ежов 2018-11-01  smart   \n",
       "829           0   Красноярск    Марьяна  Авросимова 2018-01-16  smart   \n",
       "2038          0  Новосибирск      Артём    Федосеев 2018-06-12  ultra   \n",
       "3163          0      Вологда     Трифон      Блохин 2018-01-27  smart   \n",
       "1781          0    Краснодар       Ефим  Амельченко 2018-02-20  smart   \n",
       "2992          0  Новокузнецк     Эллада      Лосева 2018-10-19  smart   \n",
       "2450          0      Вологда     Рустам       Левин 2018-08-27  smart   \n",
       "470           0  Владикавказ     Гордей  Павловский 2018-10-04  smart   \n",
       "2620          0  Новосибирск       Леон      Фролов 2018-08-19  smart   \n",
       "1382          0        Киров     Кузьма    Некрасов 2018-01-21  smart   \n",
       "\n",
       "      gb_used  revenue  \n",
       "8        19.0   1350.0  \n",
       "829      13.0    550.0  \n",
       "2038     27.0   1950.0  \n",
       "3163     25.0   3078.0  \n",
       "1781      1.0    550.0  \n",
       "2992     20.0   1613.0  \n",
       "2450     25.0   2619.0  \n",
       "470      16.0    876.0  \n",
       "2620      9.0    550.0  \n",
       "1382     18.0   1150.0  "
      ]
     },
     "execution_count": 15,
     "metadata": {},
     "output_type": "execute_result"
    }
   ],
   "source": [
    "df.sample(10)"
   ]
  },
  {
   "cell_type": "markdown",
   "metadata": {},
   "source": [
    "#### После того, как посчитали для каждого пользователя количество сделанных звонков, потраченных минут разговора, количество отправленных смс и израсходаванного интернет-трафика,  все таблицы в собрали в единую.\n",
    "После этого необходимо было проверить сводную таблицу на наличие пустых значений. Всех их заменили на 0, так как они (пустые значения) свидетельствуют о том, что в конкретный месяц конкретным пользователем не было совершено звонка/отправлено смс/израсходавано трафика. \n",
    "\n",
    "В таблицу также был добавлен столбец 'gb_used' - в нем переведенные в гигабайты значения столбца 'mb_used'. Сделано было для удобства расчета выручки. "
   ]
  },
  {
   "cell_type": "markdown",
   "metadata": {},
   "source": [
    "<div class=\"alert alert-block alert-success\">\n",
    "Теперь у нас есть сводная таблица, по которой мы можем провести дальнейший анализ. Посмотрим, что получилось.\n",
    "\n",
    "p.s.: здорово, что ты поясняешь свои действия\n",
    "</div>\n",
    "    \n",
    "---"
   ]
  },
  {
   "cell_type": "markdown",
   "metadata": {},
   "source": [
    "### Шаг 3. Проанализируйте данные\n",
    "\n",
    "Сколько минут разговора, сколько сообщений и какой объём интернет-трафика требуется пользователям каждого тарифа в месяц? Посчитайте среднее количество, дисперсию и стандартное отклонение. Постройте гистограммы. Опишите распределения.\n"
   ]
  },
  {
   "cell_type": "code",
   "execution_count": 16,
   "metadata": {},
   "outputs": [
    {
     "data": {
      "text/html": [
       "<div>\n",
       "<style scoped>\n",
       "    .dataframe tbody tr th:only-of-type {\n",
       "        vertical-align: middle;\n",
       "    }\n",
       "\n",
       "    .dataframe tbody tr th {\n",
       "        vertical-align: top;\n",
       "    }\n",
       "\n",
       "    .dataframe thead th {\n",
       "        text-align: right;\n",
       "    }\n",
       "</style>\n",
       "<table border=\"1\" class=\"dataframe\">\n",
       "  <thead>\n",
       "    <tr style=\"text-align: right;\">\n",
       "      <th></th>\n",
       "      <th>duration</th>\n",
       "      <th>gb_used</th>\n",
       "      <th>total_messages</th>\n",
       "    </tr>\n",
       "  </thead>\n",
       "  <tbody>\n",
       "    <tr>\n",
       "      <td>count</td>\n",
       "      <td>2229.000000</td>\n",
       "      <td>2229.000000</td>\n",
       "      <td>2229.000000</td>\n",
       "    </tr>\n",
       "    <tr>\n",
       "      <td>mean</td>\n",
       "      <td>429.450875</td>\n",
       "      <td>16.359354</td>\n",
       "      <td>33.384029</td>\n",
       "    </tr>\n",
       "    <tr>\n",
       "      <td>std</td>\n",
       "      <td>194.871174</td>\n",
       "      <td>5.758498</td>\n",
       "      <td>28.227876</td>\n",
       "    </tr>\n",
       "    <tr>\n",
       "      <td>min</td>\n",
       "      <td>0.000000</td>\n",
       "      <td>0.000000</td>\n",
       "      <td>0.000000</td>\n",
       "    </tr>\n",
       "    <tr>\n",
       "      <td>25%</td>\n",
       "      <td>291.000000</td>\n",
       "      <td>13.000000</td>\n",
       "      <td>10.000000</td>\n",
       "    </tr>\n",
       "    <tr>\n",
       "      <td>50%</td>\n",
       "      <td>435.000000</td>\n",
       "      <td>17.000000</td>\n",
       "      <td>28.000000</td>\n",
       "    </tr>\n",
       "    <tr>\n",
       "      <td>75%</td>\n",
       "      <td>560.000000</td>\n",
       "      <td>20.000000</td>\n",
       "      <td>51.000000</td>\n",
       "    </tr>\n",
       "    <tr>\n",
       "      <td>max</td>\n",
       "      <td>1471.000000</td>\n",
       "      <td>38.000000</td>\n",
       "      <td>143.000000</td>\n",
       "    </tr>\n",
       "  </tbody>\n",
       "</table>\n",
       "</div>"
      ],
      "text/plain": [
       "          duration      gb_used  total_messages\n",
       "count  2229.000000  2229.000000     2229.000000\n",
       "mean    429.450875    16.359354       33.384029\n",
       "std     194.871174     5.758498       28.227876\n",
       "min       0.000000     0.000000        0.000000\n",
       "25%     291.000000    13.000000       10.000000\n",
       "50%     435.000000    17.000000       28.000000\n",
       "75%     560.000000    20.000000       51.000000\n",
       "max    1471.000000    38.000000      143.000000"
      ]
     },
     "execution_count": 16,
     "metadata": {},
     "output_type": "execute_result"
    }
   ],
   "source": [
    "df[df['tariff'] == 'smart'][['duration', 'gb_used', 'total_messages']].describe()"
   ]
  },
  {
   "cell_type": "code",
   "execution_count": 17,
   "metadata": {},
   "outputs": [
    {
     "data": {
      "text/html": [
       "<div>\n",
       "<style scoped>\n",
       "    .dataframe tbody tr th:only-of-type {\n",
       "        vertical-align: middle;\n",
       "    }\n",
       "\n",
       "    .dataframe tbody tr th {\n",
       "        vertical-align: top;\n",
       "    }\n",
       "\n",
       "    .dataframe thead th {\n",
       "        text-align: right;\n",
       "    }\n",
       "</style>\n",
       "<table border=\"1\" class=\"dataframe\">\n",
       "  <thead>\n",
       "    <tr style=\"text-align: right;\">\n",
       "      <th></th>\n",
       "      <th>duration</th>\n",
       "      <th>gb_used</th>\n",
       "      <th>total_messages</th>\n",
       "    </tr>\n",
       "  </thead>\n",
       "  <tbody>\n",
       "    <tr>\n",
       "      <td>count</td>\n",
       "      <td>985.000000</td>\n",
       "      <td>985.000000</td>\n",
       "      <td>985.000000</td>\n",
       "    </tr>\n",
       "    <tr>\n",
       "      <td>mean</td>\n",
       "      <td>540.779695</td>\n",
       "      <td>19.525888</td>\n",
       "      <td>49.363452</td>\n",
       "    </tr>\n",
       "    <tr>\n",
       "      <td>std</td>\n",
       "      <td>325.738740</td>\n",
       "      <td>9.865848</td>\n",
       "      <td>47.804457</td>\n",
       "    </tr>\n",
       "    <tr>\n",
       "      <td>min</td>\n",
       "      <td>0.000000</td>\n",
       "      <td>0.000000</td>\n",
       "      <td>0.000000</td>\n",
       "    </tr>\n",
       "    <tr>\n",
       "      <td>25%</td>\n",
       "      <td>292.000000</td>\n",
       "      <td>12.000000</td>\n",
       "      <td>6.000000</td>\n",
       "    </tr>\n",
       "    <tr>\n",
       "      <td>50%</td>\n",
       "      <td>532.000000</td>\n",
       "      <td>19.000000</td>\n",
       "      <td>38.000000</td>\n",
       "    </tr>\n",
       "    <tr>\n",
       "      <td>75%</td>\n",
       "      <td>773.000000</td>\n",
       "      <td>27.000000</td>\n",
       "      <td>79.000000</td>\n",
       "    </tr>\n",
       "    <tr>\n",
       "      <td>max</td>\n",
       "      <td>1727.000000</td>\n",
       "      <td>49.000000</td>\n",
       "      <td>224.000000</td>\n",
       "    </tr>\n",
       "  </tbody>\n",
       "</table>\n",
       "</div>"
      ],
      "text/plain": [
       "          duration     gb_used  total_messages\n",
       "count   985.000000  985.000000      985.000000\n",
       "mean    540.779695   19.525888       49.363452\n",
       "std     325.738740    9.865848       47.804457\n",
       "min       0.000000    0.000000        0.000000\n",
       "25%     292.000000   12.000000        6.000000\n",
       "50%     532.000000   19.000000       38.000000\n",
       "75%     773.000000   27.000000       79.000000\n",
       "max    1727.000000   49.000000      224.000000"
      ]
     },
     "execution_count": 17,
     "metadata": {},
     "output_type": "execute_result"
    }
   ],
   "source": [
    "df[df['tariff'] == 'ultra'][['duration', 'gb_used', 'total_messages']].describe()"
   ]
  },
  {
   "cell_type": "markdown",
   "metadata": {},
   "source": [
    "#### Средние значения всех исследуемых параметров у тарифа ultra выше, чем у тарифа smart. В этом ничего удивительного, так как этот тариф изначально предлагает больше ресурсов для пользователей. \n",
    "\n",
    "#### Стандартное отклонение так же выше по все пунктам по сравнению с тарифом smart, что тоже неудивительно. Пользователям предлагается больше бесплатных ресурсов для использования, поэтому \"размах\" потенциального использования ресурсами шире. К примеру,пользавателю smart доступно 15 ГБ трафика, и он, стараясь не выходить за рамки, тратит от 0 до 15 ГБ в месяц, в то время как пользователь ultra свободно тратит от 0 до 30 ГБ в месяц. "
   ]
  },
  {
   "cell_type": "markdown",
   "metadata": {},
   "source": [
    "<div class=\"alert alert-block alert-success\">\n",
    "Всё верно. Наглядный вывод информации для сравнения\n",
    "</div>\n",
    "    \n",
    "---"
   ]
  },
  {
   "cell_type": "code",
   "execution_count": 18,
   "metadata": {
    "scrolled": true
   },
   "outputs": [
    {
     "data": {
      "text/plain": [
       "<matplotlib.legend.Legend at 0x7f4c701d9810>"
      ]
     },
     "execution_count": 18,
     "metadata": {},
     "output_type": "execute_result"
    },
    {
     "data": {
      "image/png": "[encoded data removed]",
      "text/plain": [
       "<Figure size 432x288 with 1 Axes>"
      ]
     },
     "metadata": {
      "needs_background": "light"
     },
     "output_type": "display_data"
    }
   ],
   "source": [
    "df[df['tariff'] == 'ultra']['duration'].hist(alpha = 1, label = 'ultra')\n",
    "df[df['tariff'] == 'smart']['duration'].hist(alpha = 0.5, label = 'smart')\n",
    "plt.title('Гистограмма длительности звонков (в минутах) пользователей двух тарифов')\n",
    "plt.xlabel('Длительность звонков (в минутах)')\n",
    "plt.ylabel('Количество наблюдений')\n",
    "plt.legend()\n"
   ]
  },
  {
   "cell_type": "code",
   "execution_count": 19,
   "metadata": {},
   "outputs": [
    {
     "data": {
      "text/plain": [
       "<matplotlib.legend.Legend at 0x7f4c701758d0>"
      ]
     },
     "execution_count": 19,
     "metadata": {},
     "output_type": "execute_result"
    },
    {
     "data": {
      "image/png": "[encoded data removed]",
      "text/plain": [
       "<Figure size 432x288 with 1 Axes>"
      ]
     },
     "metadata": {
      "needs_background": "light"
     },
     "output_type": "display_data"
    }
   ],
   "source": [
    "df[df['tariff'] == 'ultra']['gb_used'].hist(alpha = 1, label = 'ultra')\n",
    "df[df['tariff'] == 'smart']['gb_used'].hist(alpha = 0.5, label = 'smart')\n",
    "plt.title('Гистограмма объема использованного траффика у пользователей двух тарифов')\n",
    "plt.xlabel('Объем трафика (в гигабайтах)')\n",
    "plt.ylabel('Частота наблюдений')\n",
    "plt.legend()\n",
    "\n"
   ]
  },
  {
   "cell_type": "code",
   "execution_count": 20,
   "metadata": {
    "scrolled": true
   },
   "outputs": [
    {
     "data": {
      "text/plain": [
       "<matplotlib.legend.Legend at 0x7f4c6ffd7410>"
      ]
     },
     "execution_count": 20,
     "metadata": {},
     "output_type": "execute_result"
    },
    {
     "data": {
      "image/png": "[encoded data removed]",
      "text/plain": [
       "<Figure size 432x288 with 1 Axes>"
      ]
     },
     "metadata": {
      "needs_background": "light"
     },
     "output_type": "display_data"
    }
   ],
   "source": [
    "df[df['tariff'] == 'ultra']['total_messages'].hist(alpha = 1, label = 'ultra')\n",
    "df[df['tariff'] == 'smart']['total_messages'].hist(alpha = 0.5, label = 'smart')\n",
    "plt.title('Гистограмма количества отправленных сообщений пользователями двух тарифов')\n",
    "plt.xlabel('Количество сообщений')\n",
    "plt.ylabel('Частота наблюдений')\n",
    "plt.legend()"
   ]
  },
  {
   "cell_type": "markdown",
   "metadata": {},
   "source": [
    "#### Распределения гистограмм не отличаются в зависимости от тарифа. Гистограммы по тарифу smart \"выше\", чем гистограммы по тарифу ultra, так как изначально выборка пользователей с тарифом smart превышает выборку пользователей с тарифом ultra. \n",
    "#### Длительность звонков и объема использованного траффика имеют нормальное распределение. Количество отправленных сообщений тоже имеет нормальное распределение, но оно скошенно вправо."
   ]
  },
  {
   "cell_type": "markdown",
   "metadata": {},
   "source": [
    "### Шаг 4. Проверьте гипотезы\n",
    "- средняя выручка пользователей тарифов «Ультра» и «Смарт» различается;\n",
    "- средняя выручка пользователей из Москвы отличается от выручки пользователей из других регионов."
   ]
  },
  {
   "cell_type": "markdown",
   "metadata": {},
   "source": [
    "----------------------------------------------------------------------------------------------------------------------\n",
    "**Гипотеза H0**: Средняя выручка пользователей тарифов 'ultra' равна средней выручке пользователей тарифа 'smart'\n",
    "\n",
    "**Гипотеза H1**: Средняя выручка пользователей тарифов 'ultra' не равна средней выручке пользователей тарифа 'smart'"
   ]
  },
  {
   "cell_type": "code",
   "execution_count": 21,
   "metadata": {},
   "outputs": [
    {
     "name": "stdout",
     "output_type": "stream",
     "text": [
      "Дисперсия выручки пользователей тарифа smart 688973.8957511279\n",
      "Дисперсия выручки пользователей тарифа ultra 143491.24055961374\n"
     ]
    }
   ],
   "source": [
    "print('Дисперсия выручки пользователей тарифа smart', df[df['tariff'] == 'smart']['revenue'].var())\n",
    "print('Дисперсия выручки пользователей тарифа ultra', df[df['tariff'] == 'ultra']['revenue'].var())"
   ]
  },
  {
   "cell_type": "code",
   "execution_count": 22,
   "metadata": {},
   "outputs": [
    {
     "name": "stdout",
     "output_type": "stream",
     "text": [
      "p-значение: 2.2071398635388928e-234\n",
      "Отвергаем нулевую гипотезу\n",
      "\n",
      "Средняя выручка пользователей тарифа smart 1311.615074024226\n",
      "Средняя выручка пользователей тарифа ultra 2071.0659898477156\n"
     ]
    }
   ],
   "source": [
    "alpha = .05\n",
    "\n",
    "results = st.ttest_ind(\n",
    "    df[df['tariff'] == 'smart']['revenue'],\n",
    "    df[df['tariff'] == 'ultra']['revenue'],\n",
    "    equal_var = False) # так как дисперсия датасетов сильно отличается, указываем equal_var = False. \n",
    "\n",
    "\n",
    "print('p-значение:', results.pvalue)\n",
    "\n",
    "if (results.pvalue < alpha): \n",
    "    print(\"Отвергаем нулевую гипотезу\")\n",
    "else:\n",
    "    print(\"Не получилось отвергнуть нулевую гипотезу\")\n",
    "\n",
    "print()\n",
    "print('Средняя выручка пользователей тарифа smart', df[df['tariff'] == 'smart']['revenue'].mean())\n",
    "print('Средняя выручка пользователей тарифа ultra', df[df['tariff'] == 'ultra']['revenue'].mean())"
   ]
  },
  {
   "cell_type": "markdown",
   "metadata": {},
   "source": [
    "#### Гипотеза о равенстве средней выручки двух тарифов отклонена. Более того, приняв во внимание рассчитанные средние выручки двух тарифов, можно утверждать, что средняя выручка пользователей тарифа ultra превышает выручку от пользователей тарифа smart\n",
    "\n"
   ]
  },
  {
   "cell_type": "markdown",
   "metadata": {},
   "source": [
    "-----------------------------------------------------------------------------------------------------------------------------\n",
    "**Гипотеза H0**: Средняя выручка пользователей из Москвы равна выручке пользователей других регионов\n",
    "\n",
    "**Гипотеза H1**: Средняя выручка пользователей из Москвы не равна выручке пользователей других регионов"
   ]
  },
  {
   "cell_type": "code",
   "execution_count": 23,
   "metadata": {},
   "outputs": [
    {
     "name": "stdout",
     "output_type": "stream",
     "text": [
      "Дисперсия выручки пользователей из Москвы 568264.3968286335\n",
      "Дисперсия выручки пользователей других регионов 644330.0682119215\n"
     ]
    }
   ],
   "source": [
    "print('Дисперсия выручки пользователей из Москвы', df[df['city'] == 'Москва']['revenue'].var())\n",
    "print('Дисперсия выручки пользователей других регионов', df[df['tariff'] != 'Москва']['revenue'].var())"
   ]
  },
  {
   "cell_type": "code",
   "execution_count": 24,
   "metadata": {},
   "outputs": [
    {
     "name": "stdout",
     "output_type": "stream",
     "text": [
      "p-значение: 0.5794098792001428\n",
      "Не получилось отвергнуть нулевую гипотезу\n",
      "\n",
      "Средняя выручка пользователей из Москвы 1560.5662847790506\n",
      "Средняя выручка пользователей других регионов 1540.5624279677295\n"
     ]
    }
   ],
   "source": [
    "alpha = .05\n",
    "\n",
    "results = st.ttest_ind(\n",
    "    df[df['city'] == 'Москва']['revenue'],\n",
    "    df[df['city'] != 'Москва']['revenue'],\n",
    "    equal_var = True) # дисперсии не сильно отличаются между собой => equal_var = True\n",
    "\n",
    "\n",
    "print('p-значение:', results.pvalue)\n",
    "\n",
    "if (results.pvalue < alpha): \n",
    "    print(\"Отвергаем нулевую гипотезу\")\n",
    "else:\n",
    "    print(\"Не получилось отвергнуть нулевую гипотезу\")\n",
    "\n",
    "print()\n",
    "print('Средняя выручка пользователей из Москвы', df[df['city'] == 'Москва']['revenue'].mean())\n",
    "print('Средняя выручка пользователей других регионов', df[df['city'] != 'Москва']['revenue'].mean())"
   ]
  },
  {
   "cell_type": "markdown",
   "metadata": {},
   "source": [
    "#### Гипотезу о том, что средняя выручка пользователей из Москвы равна выручке пользователей из других регионов, отвегнуть не получилось. Рассчитанные средние выручки пользователей из Москвы и других регионов так же свидетельствуют о том, что они почти одинаковые."
   ]
  },
  {
   "cell_type": "markdown",
   "metadata": {},
   "source": [
    "### *Какой тариф лучше?*"
   ]
  },
  {
   "cell_type": "code",
   "execution_count": 25,
   "metadata": {},
   "outputs": [
    {
     "name": "stdout",
     "output_type": "stream",
     "text": [
      "Количество пользователей тарифа Ультра 985\n",
      "Количество пользователей тарифа Смарт 2229\n"
     ]
    }
   ],
   "source": [
    "print('Количество пользователей тарифа Ультра', len(df[df['tariff'] == 'ultra']))\n",
    "print('Количество пользователей тарифа Смарт', len(df[df['tariff'] == 'smart']))"
   ]
  },
  {
   "cell_type": "code",
   "execution_count": 26,
   "metadata": {
    "scrolled": true
   },
   "outputs": [
    {
     "name": "stdout",
     "output_type": "stream",
     "text": [
      "Суммарная выручка от пользователей тарифа Ультра 2040000.0\n",
      "Суммарная выручка от пользователей тарифа Смарт 2923590.0\n"
     ]
    }
   ],
   "source": [
    "print('Суммарная выручка от пользователей тарифа Ультра', \n",
    "      df[df['tariff'] == 'ultra']['revenue'].mean() * len(df[df['tariff'] == 'ultra']))\n",
    "print('Суммарная выручка от пользователей тарифа Смарт', \n",
    "      df[df['tariff'] == 'smart']['revenue'].mean() * len(df[df['tariff'] == 'smart']))"
   ]
  },
  {
   "cell_type": "markdown",
   "metadata": {},
   "source": [
    "#### Можно заметить, что количество пользователей тарифа Смарт в 2 раза больше, чем пользователей тарифа Ультра. \n",
    "\n",
    "#### Выручка от пользователей тарифа Смарт превышает выручку от пользователей тарифа Ультра примерно в 1,5 раза."
   ]
  },
  {
   "cell_type": "markdown",
   "metadata": {},
   "source": [
    "### Шаг 5. Общий вывод"
   ]
  },
  {
   "cell_type": "markdown",
   "metadata": {},
   "source": [
    "На первом шаге работы были изучены 5 датафреймов и изучены данные, содержащиеся в них. \n",
    "\n",
    "-------------------------------------------------------------------------------------------------------------------\n",
    "Далее была проведена предобработка данных, в частности изменены форматы столбцов, содержащие в себе даты. \n",
    "Значения столбцов, в которых отражалось длительность звонков, объем использованного трафика были округлены вверх. Это было сделано для верного расчета выручки, ведь пользователи платят за 1 секунду разговора как за полную минуту. \n",
    "Нулевые значения длительности звонков были заменены на единицу. Это было сделано из предположения, что раз в датафрейме df_calls имеется запись о звонке длительностью 0 минут, то сам звонок всё-таки имел место быть. Сама компания при этом потратила ресурсы на его осуществление. \n",
    "\n",
    "---------------------------------------------------------------------------------------------------------------------------------\n",
    "\n",
    "Для каждого пользователя были подсчитаны:\n",
    "- количество сделанных звонков и израсходованных минут разговора по месяцам;\n",
    "- количество отправленных сообщений по месяцам;\n",
    "- объем израсходованного интернет-трафика по месяцам;\n",
    "- помесячная выручка\n",
    "\n",
    "----------------------------------------\n",
    "Был проведен анализ средней длительности звонка, использованного траффика и количества сообщений, а также их СКО.  \n",
    "Средние и среднеквардатическое отклонение всех исследуемых показателей выше у пользователей тарифа **Ультра**. Этот тариф изначально рассчитан на пользователей, которые потребляют больше ресурсов, поэтому результат вполне ожидаемый.\n",
    "\n",
    "Построенные гистограммы по вышеперечисленным параметрам имеют нормальное распределение. Между пользователями **Смарт** и **Ультра** нет принципиальной разницы в поведении. Заметно, что пользователи тарифа **Ультра** в среднем используют имеющиеся ресурсы больше, чем пользователи тарифа **Смарт**, что вполне закономерно.\n",
    "\n",
    "-----------\n",
    "В финальной части работы было проверены две гипотезы:\n",
    "\n",
    "1) средняя выручка пользователей тарифов «Ультра» и «Смарт» различается;\n",
    "\n",
    "2) средняя выручка пользователей из Москвы отличается от выручки пользователей из других регионов.\n",
    "\n",
    "Для проверок был использован метод **ttest_ind**, так как проверялось равенство средних двух генеральных совокупностей\n",
    "\n",
    "\n",
    "Средняя выручка пользователей тарифов Ультра и Смарт действительно различается, можно даже утверждать, что не просто различаются, а выручка от пользователей Ультра превышает выручку от пользователей Смарт. \n",
    "\n",
    "Вторая гипотеза была отвергнута. Средняя выручка пользователей из Москвы не отличается от выручки пользователей из других регионов.\n",
    "\n",
    "\n",
    "---------------------------------\n",
    "\n",
    "*Какой тариф лучше?*\n",
    "\n",
    "Если исходить из средней выручки от пользователя, то тариф Ультра лучше, так как приносит больше денег - это было потверждено при проверке гипотезы. Однако это совершенно бессмысленно, ведь пользователь тарифа **Ультра** по умолчанию платит гораздо больше денег, чем пользователь тарифа **Смарт** (абонентская плата тарифа **Ультра** составляет 1950 рублей против 550 рублей по тарифу **Смарт**)\n",
    "\n",
    "Пользователей тарифа **Смарт** в наблюдаемой выборке более чем в два больше по сравнению с количеством пользователей тарифа **Ультра**. Если данное соотношение наблюдается и по всем абонентам компании, то тариф **Смарт** является лучше, так как большое количество пользователей компенсируют меньшую абонентскую плату, и, таким образом, тариф приносит больший доход относительно тарифа **Ультра**\n",
    "\n"
   ]
  }
 ],
 "metadata": {
  "kernelspec": {
   "display_name": "Python 3",
   "language": "python",
   "name": "python3"
  },
  "language_info": {
   "codemirror_mode": {
    "name": "ipython",
    "version": 3
   },
   "file_extension": ".py",
   "mimetype": "text/x-python",
   "name": "python",
   "nbconvert_exporter": "python",
   "pygments_lexer": "ipython3",
   "version": "3.7.6"
  }
 },
 "nbformat": 4,
 "nbformat_minor": 2
}
